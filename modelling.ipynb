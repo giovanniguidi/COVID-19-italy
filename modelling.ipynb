{
 "cells": [
  {
   "cell_type": "code",
   "execution_count": 1,
   "metadata": {},
   "outputs": [],
   "source": [
    "import numpy as np\n",
    "import pandas as pd\n",
    "from scipy.integrate import solve_ivp\n",
    "from scipy.optimize import minimize\n",
    "import matplotlib.pyplot as plt\n",
    "from datetime import timedelta, datetime\n",
    "\n",
    "START_DATE = {\n",
    "  'Japan': '1/22/20',\n",
    "  'Italy': '1/31/20',\n",
    "  'Republic of Korea': '1/22/20',\n",
    "  'Iran (Islamic Republic of)': '2/19/20'\n",
    "}"
   ]
  },
  {
   "cell_type": "code",
   "execution_count": 14,
   "metadata": {},
   "outputs": [],
   "source": [
    "class Learner(object):\n",
    "    def __init__(self, country, loss):\n",
    "        self.country = country\n",
    "        self.loss = loss\n",
    "\n",
    "    def load_confirmed(self, country):\n",
    "      \"\"\"\n",
    "      Load confirmed cases downloaded from HDX\n",
    "      \"\"\"\n",
    "      df = pd.read_csv('data/time_series_19-covid-Confirmed.csv')\n",
    "      country_df = df[df['Country/Region'] == country]\n",
    "      return country_df.iloc[0].loc[START_DATE[country]:]\n",
    "\n",
    "    def extend_index(self, index, new_size):\n",
    "        values = index.values\n",
    "        current = datetime.strptime(index[-1], '%m/%d/%y')\n",
    "        while len(values) < new_size:\n",
    "            current = current + timedelta(days=1)\n",
    "            values = np.append(values, datetime.strftime(current, '%m/%d/%y'))\n",
    "        return values\n",
    "\n",
    "    def predict(self, beta, gamma, data):\n",
    "        \"\"\"\n",
    "        Predict how the number of people in each compartment can be changed through time toward the future.\n",
    "        The model is formulated with the given beta and gamma.\n",
    "        \"\"\"\n",
    "        predict_range = 150\n",
    "        new_index = self.extend_index(data.index, predict_range)\n",
    "        size = len(new_index)\n",
    "        def SIR(t, y):\n",
    "            S = y[0]\n",
    "            I = y[1]\n",
    "            R = y[2]\n",
    "            return [-beta*S*I, beta*S*I-gamma*I, gamma*I]\n",
    "        extended_actual = np.concatenate((data.values, [None] * (size - len(data.values))))\n",
    "        return new_index, extended_actual, solve_ivp(SIR, [0, size], [S_0,I_0,R_0], t_eval=np.arange(0, size, 1))\n",
    "\n",
    "    def train(self):\n",
    "        \"\"\"\n",
    "        Run the optimization to estimate the beta and gamma fitting the given confirmed cases.\n",
    "        \"\"\"\n",
    "        data = self.load_confirmed(self.country)\n",
    "        \n",
    "#        print(data)\n",
    "        optimal = minimize(self.loss, [0.001, 0.001], args=(data), method='L-BFGS-B', \n",
    "            bounds=[(0.00000001, 0.4), (0.00000001, 0.4)])\n",
    "        beta, gamma = optimal.x\n",
    "        new_index, extended_actual, prediction = self.predict(beta, gamma, data)\n",
    "        df = pd.DataFrame({\n",
    "            'Actual': extended_actual,\n",
    "            'S': prediction.y[0],\n",
    "            'I': prediction.y[1],\n",
    "            'R': prediction.y[2]\n",
    "        }, index=new_index)\n",
    "        fig, ax = plt.subplots(figsize=(15, 10))#\n",
    "        ax.set_title(self.country)\n",
    "        df.plot(ax=ax)\n",
    "        fig.savefig(f\"{self.country}.png\")"
   ]
  },
  {
   "cell_type": "code",
   "execution_count": 16,
   "metadata": {},
   "outputs": [],
   "source": [
    "def loss_1(point, data):\n",
    "    \"\"\"\n",
    "    RMSE between actual confirmed cases and the estimated infectious people with given beta and gamma.\n",
    "    \"\"\"\n",
    "    size = len(data)\n",
    "    beta, gamma = point\n",
    "    def SIR(t, y):\n",
    "        S = y[0]\n",
    "        I = y[1]\n",
    "        R = y[2]\n",
    "        return [-beta*S*I, beta*S*I-gamma*I, gamma*I]\n",
    "    \n",
    "#    S_0 = 60479770.0\n",
    "    \n",
    "    S_0 = 50000\n",
    "    I_0 = 2\n",
    "    R_0 = 0\n",
    "    \n",
    "    solution = solve_ivp(SIR, [0, size], [S_0,I_0,R_0], t_eval=np.arange(0, size, 1), vectorized=True)\n",
    "    return np.sqrt(np.mean((solution.y[1] - data)**2))"
   ]
  },
  {
   "cell_type": "code",
   "execution_count": 17,
   "metadata": {},
   "outputs": [
    {
     "ename": "NameError",
     "evalue": "name 'S_0' is not defined",
     "output_type": "error",
     "traceback": [
      "\u001b[0;31m---------------------------------------------------------------------------\u001b[0m",
      "\u001b[0;31mNameError\u001b[0m                                 Traceback (most recent call last)",
      "\u001b[0;32m<ipython-input-17-3201ae6d17b6>\u001b[0m in \u001b[0;36m<module>\u001b[0;34m\u001b[0m\n\u001b[1;32m      1\u001b[0m \u001b[0mlearner\u001b[0m \u001b[0;34m=\u001b[0m \u001b[0mLearner\u001b[0m\u001b[0;34m(\u001b[0m\u001b[0;34m'Italy'\u001b[0m\u001b[0;34m,\u001b[0m \u001b[0mloss_1\u001b[0m\u001b[0;34m)\u001b[0m\u001b[0;34m\u001b[0m\u001b[0;34m\u001b[0m\u001b[0m\n\u001b[0;32m----> 2\u001b[0;31m \u001b[0mlearner\u001b[0m\u001b[0;34m.\u001b[0m\u001b[0mtrain\u001b[0m\u001b[0;34m(\u001b[0m\u001b[0;34m)\u001b[0m\u001b[0;34m\u001b[0m\u001b[0;34m\u001b[0m\u001b[0m\n\u001b[0m",
      "\u001b[0;32m<ipython-input-14-bc4321ea0b99>\u001b[0m in \u001b[0;36mtrain\u001b[0;34m(self)\u001b[0m\n\u001b[1;32m     46\u001b[0m             bounds=[(0.00000001, 0.4), (0.00000001, 0.4)])\n\u001b[1;32m     47\u001b[0m         \u001b[0mbeta\u001b[0m\u001b[0;34m,\u001b[0m \u001b[0mgamma\u001b[0m \u001b[0;34m=\u001b[0m \u001b[0moptimal\u001b[0m\u001b[0;34m.\u001b[0m\u001b[0mx\u001b[0m\u001b[0;34m\u001b[0m\u001b[0;34m\u001b[0m\u001b[0m\n\u001b[0;32m---> 48\u001b[0;31m         \u001b[0mnew_index\u001b[0m\u001b[0;34m,\u001b[0m \u001b[0mextended_actual\u001b[0m\u001b[0;34m,\u001b[0m \u001b[0mprediction\u001b[0m \u001b[0;34m=\u001b[0m \u001b[0mself\u001b[0m\u001b[0;34m.\u001b[0m\u001b[0mpredict\u001b[0m\u001b[0;34m(\u001b[0m\u001b[0mbeta\u001b[0m\u001b[0;34m,\u001b[0m \u001b[0mgamma\u001b[0m\u001b[0;34m,\u001b[0m \u001b[0mdata\u001b[0m\u001b[0;34m)\u001b[0m\u001b[0;34m\u001b[0m\u001b[0;34m\u001b[0m\u001b[0m\n\u001b[0m\u001b[1;32m     49\u001b[0m         df = pd.DataFrame({\n\u001b[1;32m     50\u001b[0m             \u001b[0;34m'Actual'\u001b[0m\u001b[0;34m:\u001b[0m \u001b[0mextended_actual\u001b[0m\u001b[0;34m,\u001b[0m\u001b[0;34m\u001b[0m\u001b[0;34m\u001b[0m\u001b[0m\n",
      "\u001b[0;32m<ipython-input-14-bc4321ea0b99>\u001b[0m in \u001b[0;36mpredict\u001b[0;34m(self, beta, gamma, data)\u001b[0m\n\u001b[1;32m     34\u001b[0m             \u001b[0;32mreturn\u001b[0m \u001b[0;34m[\u001b[0m\u001b[0;34m-\u001b[0m\u001b[0mbeta\u001b[0m\u001b[0;34m*\u001b[0m\u001b[0mS\u001b[0m\u001b[0;34m*\u001b[0m\u001b[0mI\u001b[0m\u001b[0;34m,\u001b[0m \u001b[0mbeta\u001b[0m\u001b[0;34m*\u001b[0m\u001b[0mS\u001b[0m\u001b[0;34m*\u001b[0m\u001b[0mI\u001b[0m\u001b[0;34m-\u001b[0m\u001b[0mgamma\u001b[0m\u001b[0;34m*\u001b[0m\u001b[0mI\u001b[0m\u001b[0;34m,\u001b[0m \u001b[0mgamma\u001b[0m\u001b[0;34m*\u001b[0m\u001b[0mI\u001b[0m\u001b[0;34m]\u001b[0m\u001b[0;34m\u001b[0m\u001b[0;34m\u001b[0m\u001b[0m\n\u001b[1;32m     35\u001b[0m         \u001b[0mextended_actual\u001b[0m \u001b[0;34m=\u001b[0m \u001b[0mnp\u001b[0m\u001b[0;34m.\u001b[0m\u001b[0mconcatenate\u001b[0m\u001b[0;34m(\u001b[0m\u001b[0;34m(\u001b[0m\u001b[0mdata\u001b[0m\u001b[0;34m.\u001b[0m\u001b[0mvalues\u001b[0m\u001b[0;34m,\u001b[0m \u001b[0;34m[\u001b[0m\u001b[0;32mNone\u001b[0m\u001b[0;34m]\u001b[0m \u001b[0;34m*\u001b[0m \u001b[0;34m(\u001b[0m\u001b[0msize\u001b[0m \u001b[0;34m-\u001b[0m \u001b[0mlen\u001b[0m\u001b[0;34m(\u001b[0m\u001b[0mdata\u001b[0m\u001b[0;34m.\u001b[0m\u001b[0mvalues\u001b[0m\u001b[0;34m)\u001b[0m\u001b[0;34m)\u001b[0m\u001b[0;34m)\u001b[0m\u001b[0;34m)\u001b[0m\u001b[0;34m\u001b[0m\u001b[0;34m\u001b[0m\u001b[0m\n\u001b[0;32m---> 36\u001b[0;31m         \u001b[0;32mreturn\u001b[0m \u001b[0mnew_index\u001b[0m\u001b[0;34m,\u001b[0m \u001b[0mextended_actual\u001b[0m\u001b[0;34m,\u001b[0m \u001b[0msolve_ivp\u001b[0m\u001b[0;34m(\u001b[0m\u001b[0mSIR\u001b[0m\u001b[0;34m,\u001b[0m \u001b[0;34m[\u001b[0m\u001b[0;36m0\u001b[0m\u001b[0;34m,\u001b[0m \u001b[0msize\u001b[0m\u001b[0;34m]\u001b[0m\u001b[0;34m,\u001b[0m \u001b[0;34m[\u001b[0m\u001b[0mS_0\u001b[0m\u001b[0;34m,\u001b[0m\u001b[0mI_0\u001b[0m\u001b[0;34m,\u001b[0m\u001b[0mR_0\u001b[0m\u001b[0;34m]\u001b[0m\u001b[0;34m,\u001b[0m \u001b[0mt_eval\u001b[0m\u001b[0;34m=\u001b[0m\u001b[0mnp\u001b[0m\u001b[0;34m.\u001b[0m\u001b[0marange\u001b[0m\u001b[0;34m(\u001b[0m\u001b[0;36m0\u001b[0m\u001b[0;34m,\u001b[0m \u001b[0msize\u001b[0m\u001b[0;34m,\u001b[0m \u001b[0;36m1\u001b[0m\u001b[0;34m)\u001b[0m\u001b[0;34m)\u001b[0m\u001b[0;34m\u001b[0m\u001b[0;34m\u001b[0m\u001b[0m\n\u001b[0m\u001b[1;32m     37\u001b[0m \u001b[0;34m\u001b[0m\u001b[0m\n\u001b[1;32m     38\u001b[0m     \u001b[0;32mdef\u001b[0m \u001b[0mtrain\u001b[0m\u001b[0;34m(\u001b[0m\u001b[0mself\u001b[0m\u001b[0;34m)\u001b[0m\u001b[0;34m:\u001b[0m\u001b[0;34m\u001b[0m\u001b[0;34m\u001b[0m\u001b[0m\n",
      "\u001b[0;31mNameError\u001b[0m: name 'S_0' is not defined"
     ]
    }
   ],
   "source": [
    "learner = Learner('Italy', loss_1)\n",
    "learner.train()"
   ]
  },
  {
   "cell_type": "code",
   "execution_count": null,
   "metadata": {},
   "outputs": [],
   "source": []
  },
  {
   "cell_type": "code",
   "execution_count": null,
   "metadata": {},
   "outputs": [],
   "source": []
  }
 ],
 "metadata": {
  "kernelspec": {
   "display_name": "Python 3",
   "language": "python",
   "name": "python3"
  },
  "language_info": {
   "codemirror_mode": {
    "name": "ipython",
    "version": 3
   },
   "file_extension": ".py",
   "mimetype": "text/x-python",
   "name": "python",
   "nbconvert_exporter": "python",
   "pygments_lexer": "ipython3",
   "version": "3.7.4"
  }
 },
 "nbformat": 4,
 "nbformat_minor": 2
}
